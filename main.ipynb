{
 "cells": [
  {
   "cell_type": "code",
   "execution_count": null,
   "metadata": {},
   "outputs": [],
   "source": [
    "import sys\n",
    "sys.path.append(\"./PyGame-Learning-Environment\")\n",
    "import pygame as pg\n",
    "from ple import PLE \n",
    "from ple.games.flappybird import FlappyBird\n",
    "from ple import PLE\n",
    "import agent"
   ]
  },
  {
   "cell_type": "code",
   "execution_count": null,
   "metadata": {},
   "outputs": [],
   "source": [
    "game = FlappyBird(width=256, height=256)\n",
    "p = PLE(game, display_screen=False)\n",
    "p.init()\n",
    "actions = p.getActionSet()\n",
    "action_dict = {0: actions[1], 1: actions[0]}\n",
    "state = p.getGameState()\n",
    "print(state)\n",
    "len_state = len(state)\n",
    "n_actions = len(action_dict)"
   ]
  }
 ],
 "metadata": {
  "kernelspec": {
   "display_name": "Python 3",
   "language": "python",
   "name": "python3"
  },
  "language_info": {
   "name": "python",
   "version": "3.11.5"
  }
 },
 "nbformat": 4,
 "nbformat_minor": 2
}
