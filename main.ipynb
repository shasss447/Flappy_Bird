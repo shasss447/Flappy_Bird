{
 "cells": [
  {
   "cell_type": "code",
   "execution_count": null,
   "metadata": {},
   "outputs": [],
   "source": [
    "import sys\n",
    "sys.path.append(\"./PyGame-Learning-Environment\")\n",
    "import pygame as pg\n",
    "from ple import PLE \n",
    "from ple.games.flappybird import FlappyBird\n",
    "from ple import PLE\n",
    "import agent"
   ]
  },
  {
   "cell_type": "code",
   "execution_count": null,
   "metadata": {},
   "outputs": [],
   "source": [
    "game = FlappyBird(width=256, height=256)\n",
    "p = PLE(game, display_screen=False)\n",
    "p.init()\n",
    "actions = p.getActionSet()\n",
    "action_dict = {0: actions[1], 1: actions[0]}\n",
    "state = p.getGameState()\n",
    "len_state = len(state)\n",
    "n_actions = len(action_dict)\n",
    "agent = agent.Agent(BATCH_SIZE=32, MEMORY_SIZE=100000, GAMMA=0.99, input_dim=len_state, output_dim=n_actions, action_dim=n_actions, action_dict=action_dict, EPS_START=1.0, EPS_END=0.05, EPS_DECAY_VALUE=0.999995, TAU = 0.005, network_type='DuelingDQN', lr = 1e-4)\n",
    "agent.train(episodes=10000, env=p)"
   ]
  }
 ],
 "metadata": {
  "kernelspec": {
   "display_name": "Python 3",
   "language": "python",
   "name": "python3"
  },
  "language_info": {
   "codemirror_mode": {
    "name": "ipython",
    "version": 3
   },
   "file_extension": ".py",
   "mimetype": "text/x-python",
   "name": "python",
   "nbconvert_exporter": "python",
   "pygments_lexer": "ipython3",
   "version": "3.11.5"
  }
 },
 "nbformat": 4,
 "nbformat_minor": 2
}
